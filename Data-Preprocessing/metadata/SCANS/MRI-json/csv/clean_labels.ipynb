{
 "cells": [
  {
   "cell_type": "code",
   "execution_count": 2,
   "metadata": {},
   "outputs": [
    {
     "name": "stdout",
     "output_type": "stream",
     "text": [
      "Unique labels saved to OASIS_labels.csv\n"
     ]
    }
   ],
   "source": [
    "import pandas as pd\n",
    "\n",
    "# 读取CSV文件\n",
    "input_file = \"OASIS3_MR_json.csv\"  # 替换为你的CSV文件路径\n",
    "output_file = \"OASIS_labels.csv\"  # 输出文件路径\n",
    "\n",
    "# 读取CSV数据\n",
    "df = pd.read_csv(input_file)\n",
    "\n",
    "# 筛选需要的类别（T1w 和 bold-rest）\n",
    "filtered_df = df[df['scan category'].isin(['T1w', 'bold-rest'])]\n",
    "\n",
    "# 获取对应的唯一标签\n",
    "unique_labels = filtered_df['label'].drop_duplicates().sort_values()\n",
    "\n",
    "# 将唯一标签保存为CSV（不需要header和index）\n",
    "unique_labels.to_csv(output_file, index=False, header=False)\n",
    "\n",
    "print(f\"Unique labels saved to {output_file}\")"
   ]
  }
 ],
 "metadata": {
  "kernelspec": {
   "display_name": "Python 3",
   "language": "python",
   "name": "python3"
  },
  "language_info": {
   "codemirror_mode": {
    "name": "ipython",
    "version": 3
   },
   "file_extension": ".py",
   "mimetype": "text/x-python",
   "name": "python",
   "nbconvert_exporter": "python",
   "pygments_lexer": "ipython3",
   "version": "3.11.4"
  }
 },
 "nbformat": 4,
 "nbformat_minor": 2
}
